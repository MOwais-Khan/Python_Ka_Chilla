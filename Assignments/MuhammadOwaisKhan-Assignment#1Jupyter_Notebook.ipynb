{
 "cells": [
  {
   "cell_type": "markdown",
   "id": "744ea675",
   "metadata": {},
   "source": [
    "# Python ka Chilla with baba_aammar\n",
    "## How to use Jupyter Notebook\n",
    "### Basics of Python\n",
    "**01- My first Program**\n",
    "\n"
   ]
  },
  {
   "cell_type": "code",
   "execution_count": 1,
   "id": "12620b4f",
   "metadata": {},
   "outputs": [
    {
     "name": "stdout",
     "output_type": "stream",
     "text": [
      "5\n",
      "Hello World\n",
      "We are learning Python with Aammar\n"
     ]
    }
   ],
   "source": [
    "print (2+3)\n",
    "print(\"Hello World\")\n",
    "print(\"We are learning Python with Aammar\")"
   ]
  },
  {
   "cell_type": "markdown",
   "id": "fa26e6c5",
   "metadata": {},
   "source": [
    "**02- Operators**\n"
   ]
  },
  {
   "cell_type": "code",
   "execution_count": 2,
   "id": "dc280464",
   "metadata": {
    "scrolled": true
   },
   "outputs": [
    {
     "name": "stdout",
     "output_type": "stream",
     "text": [
      "3\n",
      "2\n",
      "3.0\n",
      "6\n",
      "1\n",
      "3\n",
      "8\n",
      "6.5\n"
     ]
    }
   ],
   "source": [
    "print(2+1)\n",
    "print(3-1)\n",
    "print(6/2)\n",
    "print(2*3)\n",
    "print(13%2)\n",
    "\n",
    "print(6//2)\n",
    "print(2**3)\n",
    "print(3**2/2*3/3+6-4)\n",
    "\n"
   ]
  },
  {
   "cell_type": "markdown",
   "id": "3eb09bdc",
   "metadata": {},
   "source": [
    "*PEDMAS*\n",
    "Parenthesis Exponents Multiply Divide Addition Substraction\n",
    "Left to right sequence for M D & A S \n"
   ]
  },
  {
   "cell_type": "markdown",
   "id": "0778935e",
   "metadata": {},
   "source": [
    "**03- Strings**\n"
   ]
  },
  {
   "cell_type": "code",
   "execution_count": 3,
   "id": "6b9a462f",
   "metadata": {},
   "outputs": [
    {
     "name": "stdout",
     "output_type": "stream",
     "text": [
      "Hello World\n",
      "We are learning Python with Aammar\n",
      "Test for Single quotes\n",
      "Test for double quotes\n",
      "Test for tripple quotes\n",
      "what's up\n"
     ]
    }
   ],
   "source": [
    "print(\"Hello World\")\n",
    "print(\"We are learning Python with Aammar\")\n",
    "print('Test for Single quotes')\n",
    "print(\"Test for double quotes\")\n",
    "print('''Test for tripple quotes''')\n",
    "print(\"what's up\") \n"
   ]
  },
  {
   "cell_type": "markdown",
   "id": "39a172a4",
   "metadata": {},
   "source": [
    "**04- Comments in Python**\n",
    "\n",
    "The Shortcut to comment is **Ctrl+/**"
   ]
  },
  {
   "cell_type": "code",
   "execution_count": 4,
   "id": "251dd6ec",
   "metadata": {},
   "outputs": [
    {
     "name": "stdout",
     "output_type": "stream",
     "text": [
      "How are you\n",
      "We are learning Python with Aammar\n",
      "8\n"
     ]
    }
   ],
   "source": [
    "print(\"How are you\")                         \n",
    "print(\"We are learning Python with Aammar\") \n",
    "print(2+6)"
   ]
  },
  {
   "cell_type": "markdown",
   "id": "602e3fac",
   "metadata": {},
   "source": [
    "**05- Variables in Python**\n"
   ]
  },
  {
   "cell_type": "code",
   "execution_count": 5,
   "id": "b35b3502",
   "metadata": {},
   "outputs": [
    {
     "name": "stdout",
     "output_type": "stream",
     "text": [
      "5\n",
      "We are learning Python with Aammar\n",
      "15\n",
      "17\n",
      "<class 'int'>\n",
      "<class 'str'>\n",
      "Mangoes\n",
      "Mangoes,Oranges\n",
      "5\n",
      "<class 'int'>\n",
      "<class 'int'>\n"
     ]
    }
   ],
   "source": [
    "#Variables: Objects contains specific values\n",
    "x = 5\n",
    "print(x)\n",
    "\n",
    "y=\"We are learning Python with Aammar\"\n",
    "print(y)\n",
    "\n",
    "x = 15\n",
    "print(x)\n",
    "#from upper to lower variables update\n",
    "#we can also use like this\n",
    "x = x+2  #(Means 15+2 = 17)\n",
    "print(x)\n",
    "\n",
    "type(x) # we are going to check type of x\n",
    "print(type(x))    \n",
    "\n",
    "print(type(y)) # type of Y is String\n",
    "\n",
    "#print_type_class     \n",
    "\n",
    "#Rules to assign a variable:\n",
    "# 1- The variable should contain letters, numbers or underscores\n",
    "# 2- Donot start with numbers\n",
    "# 3- Spaces are not allowed\n",
    "#Even File names me bhai spaces use nhn huge\n",
    "# 4- Do not use keywords used in functions (break,mean,median, test etc)\n",
    "# 5- short and descriptive variable name\n",
    "# 6- Case sensitive( and also use lower case becvause no need to open caps-log or use shift key)\n",
    "\n",
    "fruit_basket=\"Mangoes\"\n",
    "print(fruit_basket)\n",
    "\n",
    "fruit_basket1=\"Mangoes,Oranges\"\n",
    "print(fruit_basket1)\n",
    "\n",
    "fruit_basket2=5\n",
    "print(fruit_basket2)\n",
    "print(type(fruit_basket2))\n",
    "#del fruit_basket2 \n",
    "print(type(fruit_basket2))"
   ]
  },
  {
   "cell_type": "markdown",
   "id": "1e2b117b",
   "metadata": {},
   "source": [
    "**06- Input Variables in Python**\n"
   ]
  },
  {
   "cell_type": "code",
   "execution_count": 6,
   "id": "18e54ced",
   "metadata": {},
   "outputs": [
    {
     "name": "stdout",
     "output_type": "stream",
     "text": [
      "What is your name? Rizwan\n",
      "Hello Rizwan\n",
      "How Old are You? 30\n",
      "Hello Rizwan  , You are not young\n"
     ]
    }
   ],
   "source": [
    "# fruit_basket=\"Mangoes\"\n",
    "# print(fruit_basket)\n",
    "\n",
    "#what if we ask consumer choice----- will use input function\n",
    "# input function ======> input()\n",
    "#A=input(\"what is your name\")\n",
    "#print(A)\n",
    "#\n",
    "# input function simple\n",
    "# fruit_basket=input(\"what is your favourite fruit? \")\n",
    "# print(fruit_basket)\n",
    "\n",
    "# input function of second stage\n",
    "# name=input(\"What is your name? \")\n",
    "# greetings= \"Hello\"\n",
    "# print(greetings,name)\n",
    "\n",
    "###\n",
    "# A=input(\"What is your Age? \")\n",
    "# B=input(\"What is your Class? \")\n",
    "#print(A,B)\n",
    "\n",
    "# Another way of stage2 input function \n",
    "# name=input(\"What is your name? \")\n",
    "# print(\"Hello\",name)\n",
    "\n",
    "\n",
    "# 3rd stage input function \n",
    "name=input(\"What is your name? \")\n",
    "print(\"Hello\",name)\n",
    "age=input(\"How Old are You? \")\n",
    "greetings=\"Hello\"\n",
    "\n",
    "print(greetings, name, \" , You are not young\")\n"
   ]
  },
  {
   "cell_type": "markdown",
   "id": "5539ce58",
   "metadata": {},
   "source": [
    "**07- Conditional Logics in Python**\n"
   ]
  },
  {
   "cell_type": "code",
   "execution_count": 7,
   "id": "b4c396a2",
   "metadata": {},
   "outputs": [
    {
     "name": "stdout",
     "output_type": "stream",
     "text": [
      "How Old is Hammad? 4\n",
      "<class 'int'>\n",
      "False\n"
     ]
    }
   ],
   "source": [
    "#Logical operators are either \"True or False\" or \"Yes or No\" or \"0 or 1\"\n",
    "#from typing import TextIO\n",
    "\n",
    "#Equals to                       ==\n",
    "#Not Equals to                  !=\n",
    "#Less than                       <\n",
    "#Greater than                    >\n",
    "#Less than or equals to          <= \n",
    "#Greater than or equals to       >=\n",
    "\n",
    "# Is 4 equals to 4?\n",
    "# print(4==4)     \n",
    "# print(4!=4)\n",
    "# print(4>3)\n",
    "# print(3>6)\n",
    "# print(3<=5)\n",
    "# print(5>=4)\n",
    "\n",
    "#application of logical operators\n",
    "# hammad_age=4\n",
    "# age_at_school=5\n",
    "# print(hammad_age==age_at_school)\n",
    "\n",
    "#input function & logical operators\n",
    "#age_at_school=5\n",
    "#hammad_age=input(\"How Old is Hammad? \") #input function\n",
    "#print(hammad_age==age_at_school)        # logical operator\n",
    "\n",
    "age_at_school=5\n",
    "hammad_age=input(\"How Old is Hammad? \") #input function\n",
    "hammad_age=int(hammad_age)\n",
    "print(type(hammad_age))\n",
    "print(hammad_age==age_at_school)        # logical operator\n",
    "\n",
    "#convert input"
   ]
  },
  {
   "cell_type": "markdown",
   "id": "30a5b247",
   "metadata": {},
   "source": [
    "**08- Type COnversion in Python**\n"
   ]
  },
  {
   "cell_type": "code",
   "execution_count": 8,
   "id": "a69f7e8d",
   "metadata": {},
   "outputs": [
    {
     "name": "stdout",
     "output_type": "stream",
     "text": [
      "What is your nameRizwan\n",
      "Rizwan <class 'str'>\n"
     ]
    }
   ],
   "source": [
    "x=10\n",
    "y=10.2\n",
    "z=\"Hello\"\n",
    "\n",
    "#x=x*y\n",
    "#multiply integer with float \n",
    "#print(type(x))\n",
    "\n",
    "#what if we add x+y\n",
    "\n",
    "\n",
    "#Implicit type conversion (means we did inside)\n",
    "# x=x+y\n",
    "# print(type(x))\n",
    "# print(x,\"Type of x is\",type(x))\n",
    "\n",
    "#Explicit type conversion \n",
    "# age=input(\"What is your age\")\n",
    "# print(type(age))   \n",
    "\n",
    "# age=input(\"What is your age\")\n",
    "# age=int(age)\n",
    "# print(type(age))  \n",
    "\n",
    "\n",
    "#age=input(\"What is your age\")\n",
    "#age=int(age)\n",
    "# print(type(int(age)))   \n",
    "# print(age,type(int(age))) \n",
    "\n",
    "name=input(\"What is your name\")\n",
    "print(name,type(str(name)))\n",
    "\n",
    "#name=input(\"What is your name\")\n",
    "#print(name,type(int(name)))\n",
    "\n",
    "\n",
    "\n"
   ]
  },
  {
   "cell_type": "markdown",
   "id": "657fff73",
   "metadata": {},
   "source": [
    "**09- If, Else & Elif in Python**\n"
   ]
  },
  {
   "cell_type": "code",
   "execution_count": 9,
   "id": "ac13ffae",
   "metadata": {},
   "outputs": [
    {
     "name": "stdout",
     "output_type": "stream",
     "text": [
      "Hammad is just a little baby and should not go\n"
     ]
    }
   ],
   "source": [
    "# hammad_age=4\n",
    "# required_age_at_school=5\n",
    "# if(hammad_age==required_age_at_school):\n",
    "#     print(\"Hammad can go to school\")\n",
    "\n",
    "#intended --->>> means this line is part of that--->> We will se space showing intended\n",
    "# print is intendedly showing inside if condition , mentioned above\n",
    "\n",
    "#it will not show result as the condition not meet and we didnot write else statement for that\n",
    "\n",
    "# else:\n",
    "#     print(\"Hammad cannot go to school\")\n",
    "# As above hammad_age and required age not meet so after applyong else statement we can get the result\n",
    "\n",
    "#lets change the hammad age to get the result\n",
    "# hammad_age=5\n",
    "# required_age_at_school=5\n",
    "# if(hammad_age==required_age_at_school):\n",
    "#     print(\"Hammad can go to school\")\n",
    "# else:\n",
    "#     print(\"Hammad cannot go to school or can join higher school\")\n",
    "\n",
    "#NOTE- We can also give more than 2 statements, How? elif\n",
    "\n",
    "hammad_age=2\n",
    "required_age_at_school=5\n",
    "if(hammad_age==required_age_at_school):\n",
    "    print(\"Hammad can go to school\")\n",
    "elif(hammad_age==4):\n",
    "    print(\"Hammad should join school\")\n",
    "elif(hammad_age<=2):\n",
    "    print(\"Hammad is just a little baby and should not go\")\n",
    "else:\n",
    "    print(\"Hammad cannot go to school or can join higher school\")"
   ]
  },
  {
   "cell_type": "markdown",
   "id": "bd610d8d",
   "metadata": {},
   "source": [
    "**10- Functions in Python**\n"
   ]
  },
  {
   "cell_type": "code",
   "execution_count": 10,
   "id": "497b1f3b",
   "metadata": {},
   "outputs": [
    {
     "name": "stdout",
     "output_type": "stream",
     "text": [
      "38\n"
     ]
    }
   ],
   "source": [
    "# print(\"We are learning python with Aammar\")\n",
    "\n",
    "# print(\"We are learning python with Aammar\")\n",
    "# print(\"We are learning python with Aammar\")\n",
    "# print(\"We are learning python with Aammar\")\n",
    "# print(\"We are learning python with Aammar\")\n",
    "\n",
    "#defining a function\n",
    "#def name_of_function():  \n",
    "\n",
    "#Method-1\n",
    "# def print_codanics():\n",
    "#     print(\"We are learning python with Aammar\")\n",
    "#     print(\"We are learning python with Aammar\")\n",
    "#     print(\"We are learning python with Aammar\")\n",
    "# print_codanics()\n",
    "\n",
    "#Method-2\n",
    "# def print_codanics():\n",
    "#     text=\"We are learning python with Aammar in Codanics Youtube Channel\"\n",
    "#     print(text)\n",
    "#     print(text)\n",
    "#     print(text)\n",
    "# print_codanics()\n",
    "\n",
    "\n",
    "#Method-3\n",
    "# def print_codanics(text):\n",
    "#     print(text)\n",
    "#     print(text)\n",
    "#     print(text)\n",
    "# print_codanics(\"We are learning python with Aammar in Codanics Youtube Channel\")\n",
    "\n",
    "\n",
    "# Defining a function with if, elif and else statement\n",
    "\n",
    "# def school_calculator(age, text):\n",
    "#     if age==5:\n",
    "#         print(\"Hammad can join to school\")\n",
    "#     elif age>=5:\n",
    "#         print(\"Hammad should go to higher school\")\n",
    "#     else:\n",
    "#         print(\"Hammad is still a baby\")\n",
    "# school_calculator(15, \"hammad\")\n",
    "\n",
    "\n",
    "# def school_calculator(age):\n",
    "#     if age==5:\n",
    "#         print(\"Hammad can join to school\")\n",
    "#     elif age>=5:\n",
    "#         print(\"Hammad should go to higher school\")\n",
    "#     else:\n",
    "#         print(\"Hammad is still a baby\")\n",
    "# school_calculator(5)\n",
    "\n",
    "# def future_age(age):\n",
    "#     new_age=age+20\n",
    "#     return new_age  \n",
    "# future_age(18)\n",
    "\n",
    "def future_age(age):\n",
    "    new_age=age+20\n",
    "    return new_age \n",
    "    print(new_age)\n",
    "future_predicted_age=future_age(18) \n",
    "print(future_predicted_age)\n"
   ]
  },
  {
   "cell_type": "markdown",
   "id": "caebf8fe",
   "metadata": {},
   "source": [
    "**11- Loops in Python**\n"
   ]
  },
  {
   "cell_type": "code",
   "execution_count": 12,
   "id": "611f9cc6",
   "metadata": {},
   "outputs": [
    {
     "name": "stdout",
     "output_type": "stream",
     "text": [
      "Mon\n",
      "Tue\n",
      "Wed\n",
      "Thurs\n",
      "Sat\n",
      "Sunday\n"
     ]
    }
   ],
   "source": [
    "#While and For Loops\n",
    "#While Loops\n",
    "\n",
    "\n",
    "\n",
    "# x=0\n",
    "# while(x<5):  \n",
    "#     print(x)\n",
    "\n",
    "\n",
    "#     x=x+1   \n",
    "#For Loops\n",
    "# for x in range(3,9):\n",
    "#     print(x)\n",
    "\n",
    "# array ----> Array means dataset\n",
    "# days=[\"Mon\",\"Tue\",\"Wed\",\"Thurs\",\"Fri\",\"Sat\",\"Sunday\"]\n",
    "# for d in days:\n",
    "#     print(d)\n",
    "\n",
    "#We can tweek it more\n",
    "days=[\"Mon\",\"Tue\",\"Wed\",\"Thurs\",\"Fri\",\"Sat\",\"Sunday\"]\n",
    "for d in days:\n",
    "    #if (d==\"Fri\"): break  \n",
    "    if (d==\"Fri\"):continue   # skips d\n",
    "    print(d)"
   ]
  },
  {
   "cell_type": "markdown",
   "id": "9b3c3662",
   "metadata": {},
   "source": [
    "**12- Import Libraries in Python**\n"
   ]
  },
  {
   "cell_type": "code",
   "execution_count": 13,
   "id": "88c5a41d",
   "metadata": {},
   "outputs": [
    {
     "name": "stdout",
     "output_type": "stream",
     "text": [
      "The value of Pi is 3.141592653589793\n",
      "300\n"
     ]
    }
   ],
   "source": [
    "\n",
    "\n",
    "import math\n",
    "print(\"The value of Pi is\", math.pi)    \n",
    "\n",
    "#another very important library \"statistics\"\n",
    "\n",
    "import statistics\n",
    "x=[150,250,350,450]\n",
    "print(statistics.mean(x))  \n"
   ]
  },
  {
   "cell_type": "markdown",
   "id": "a2757561",
   "metadata": {},
   "source": [
    "**13- Import Libraries in Python**\n"
   ]
  },
  {
   "cell_type": "code",
   "execution_count": 14,
   "id": "f73dabec",
   "metadata": {},
   "outputs": [
    {
     "name": "stdout",
     "output_type": "stream",
     "text": [
      "HelloAammar\n"
     ]
    }
   ],
   "source": [
    "# print(we are learning python with Aammar) #syntax error  \n",
    "# print(25/0) #run time error\n",
    "\n",
    "\n",
    "name=\"Aammar\"\n",
    "#print(\"Hello name\")   \n",
    "\n",
    "print(\"Hello\"+ name)   "
   ]
  },
  {
   "cell_type": "markdown",
   "id": "2e6d8b16",
   "metadata": {},
   "source": [
    "*We have Completed this Jupyter Notebook Tutorials*"
   ]
  },
  {
   "cell_type": "code",
   "execution_count": null,
   "id": "488026f0",
   "metadata": {},
   "outputs": [],
   "source": []
  }
 ],
 "metadata": {
  "kernelspec": {
   "display_name": "Python 3 (ipykernel)",
   "language": "python",
   "name": "python3"
  },
  "language_info": {
   "codemirror_mode": {
    "name": "ipython",
    "version": 3
   },
   "file_extension": ".py",
   "mimetype": "text/x-python",
   "name": "python",
   "nbconvert_exporter": "python",
   "pygments_lexer": "ipython3",
   "version": "3.9.7"
  }
 },
 "nbformat": 4,
 "nbformat_minor": 5
}
